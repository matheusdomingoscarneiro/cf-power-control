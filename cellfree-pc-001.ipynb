{
 "cells": [
  {
   "cell_type": "code",
   "execution_count": 1,
   "id": "ff841726-6d66-4d82-8f7d-d0ea3515780e",
   "metadata": {},
   "outputs": [],
   "source": [
    "import numpy as np\n",
    "from matplotlib import pyplot as plt\n",
    "import copy\n",
    "\n",
    "np.random.seed(14)"
   ]
  },
  {
   "cell_type": "code",
   "execution_count": 2,
   "id": "83134c17-62a1-4392-a59f-b87b091e9a89",
   "metadata": {},
   "outputs": [],
   "source": [
    "def lin2db(x):\n",
    "    return 10.0*np.log10(x)\n",
    "\n",
    "def db2lin(x):\n",
    "    return 10.0**(x/10.0)\n",
    "\n",
    "def lin2dbm(x):\n",
    "    return 10.0*np.log10(x)+30.0\n",
    "\n",
    "def dbm2lin(x):\n",
    "    return 10.0**(x/10.0 - 3.0)"
   ]
  },
  {
   "cell_type": "code",
   "execution_count": 3,
   "id": "1bfc887d-0bce-4311-a42d-4e2a90b3e2cf",
   "metadata": {},
   "outputs": [],
   "source": [
    "def eCDF(data):\n",
    "    x = np.sort(data)\n",
    "    y = np.arange(0, len(data)) / len(data)\n",
    "\n",
    "    return x, y  "
   ]
  },
  {
   "cell_type": "code",
   "execution_count": 4,
   "id": "868e6151-2099-40cd-bb6a-29fb5f73fdd9",
   "metadata": {},
   "outputs": [],
   "source": [
    "# Functions related to positioning and distances\n",
    "\n",
    "def random_ue_positions(num_ue, cov_side):\n",
    "    ''' \n",
    "    Returns a random position vector within the coverage area.\n",
    "    \n",
    "    Parameters\n",
    "    ----------\n",
    "    cov_side : int, float\n",
    "        The side [in m] of the coverage area.\n",
    "    num_ue : int\n",
    "        The number of UEs.\n",
    "    '''\n",
    "    \n",
    "    ue_positions = np.zeros((num_ue, 2))\n",
    "    \n",
    "    for ue in range(num_ue):\n",
    "        ue_positions[ue] = [np.random.rand() * cov_side, np.random.rand() * cov_side]\n",
    "        \n",
    "    return ue_positions\n",
    "\n",
    "\n",
    "def ap_positions(num_ap, cov_side):\n",
    "    ''' \n",
    "    Returns the APs positions based on the number of APs.\n",
    "    \n",
    "    Parameters\n",
    "    ----------\n",
    "    num_ap : int\n",
    "        The number of APs.\n",
    "    cov_side : int, float\n",
    "        The side [in m] of coverage area.\n",
    "    '''\n",
    "    \n",
    "    if np.sqrt(num_ap).is_integer():\n",
    "        \n",
    "        side_ap_quantity = int(np.sqrt(num_ap))\n",
    "        \n",
    "        ap_area_side = cov_side // side_ap_quantity\n",
    "        \n",
    "        x_pos, y_pos = np.meshgrid(np.arange(0.5 * ap_area_side,\n",
    "                                             cov_side,\n",
    "                                             ap_area_side),\n",
    "                                   np.arange(0.5 * ap_area_side,\n",
    "                                             cov_side,\n",
    "                                             ap_area_side))\n",
    " \n",
    "        aps_pos = np.column_stack((x_pos.ravel(), y_pos.ravel()))\n",
    "    \n",
    "        return aps_pos\n",
    "    \n",
    "    else:\n",
    "        \n",
    "        print('Number of APs must be a perfect square')\n",
    "\n",
    "\n",
    "def distance(ue_pos, ap_pos, ref_distance=1):\n",
    "    ''' \n",
    "    Returns the distance [in m] between an UE and an AP. If distance is lower than reference distance, it returns the reference distance.\n",
    "    \n",
    "    Parameters\n",
    "    ----------\n",
    "    ue_pos : int, float\n",
    "        The UE position.\n",
    "    ap_pos : int, float\n",
    "        The AP position.\n",
    "    ref_distance : int, float\n",
    "        The reference distance [in m] from which the gain is calculated.\n",
    "    '''\n",
    "\n",
    "    dis_matrix = np.zeros((ue_pos.shape[0], ap_pos.shape[0]))\n",
    "    \n",
    "    for ue in range(ue_pos.shape[0]):\n",
    "        for ap in range(ap_pos.shape[0]):\n",
    "            dis = np.sqrt(((ue_pos[ue])[0] - (ap_pos[ap])[0])**2\n",
    "                          + ((ue_pos[ue])[1] - (ap_pos[ap])[1])**2)\n",
    "\n",
    "            if dis >= ref_distance:\n",
    "                dis_matrix[ue, ap] = dis\n",
    "            else:\n",
    "                dis_matrix[ue, ap] = ref_distance\n",
    "\n",
    "    return dis_matrix"
   ]
  },
  {
   "cell_type": "code",
   "execution_count": 5,
   "id": "0e37a9be-82a5-473f-b681-b94e8e7535a7",
   "metadata": {},
   "outputs": [],
   "source": [
    "# Functions related to channel modeling\n",
    "\n",
    "def snr_cellfree(hor_distance, shadow):\n",
    "\n",
    "    return db2lin(shadow + 10 + 96 - 30.5 -36.7*np.log10(np.sqrt(hor_distance**2 + 10**2)))\n",
    "\n",
    "def channel_gain(snr):\n",
    "\n",
    "    channel_matrix = np.zeros(snr.shape)\n",
    "    for ap in range(snr.shape[1]):\n",
    "        channel_matrix[:, ap] = np.sqrt(snr[:, ap])\n",
    "        \n",
    "    return channel_matrix"
   ]
  },
  {
   "cell_type": "code",
   "execution_count": 6,
   "id": "c3a2b54c-25b1-4f23-b835-5b32d027d838",
   "metadata": {},
   "outputs": [],
   "source": [
    "def mmse_sinr(channel_m, power_v, noise_g):\n",
    "\n",
    "    M = channel_m.shape[1]\n",
    "    sinr = np.zeros(channel_m.shape[0])\n",
    "    sum = 0\n",
    "    \n",
    "    for ue in range(channel_m.shape[0]):\n",
    "        sum += power_v[ue] * channel_m[ue] @ channel_m[ue].T\n",
    "        \n",
    "    for ue in range(channel_m.shape[0]):\n",
    "         \n",
    "        sinr[ue] = power_v[ue] * channel_m[ue].T @ np.linalg.inv(sum - channel_m[ue] @ channel_m[ue].T + np.eye(M)) @ channel_m[ue]\n",
    "        \n",
    "    return sinr"
   ]
  },
  {
   "cell_type": "code",
   "execution_count": 7,
   "id": "01e3d25e-6725-4f7b-bc82-9324fc38f9b4",
   "metadata": {},
   "outputs": [],
   "source": [
    "num_ue = 8\n",
    "num_ap = 64\n",
    "cov_side = 400\n",
    "seeds = 1000\n",
    "noise_gain = 1e-20 * 100e6 * db2lin(6)\n",
    "noise_p = 1e-20 * 100e6\n",
    "\n",
    "total_sinr_mp = np.zeros((num_ue, seeds))\n",
    "#total_sinr_fpc = np.zeros((num_ue, seeds))\n",
    "\n",
    "for seed in range(seeds):\n",
    "    \n",
    "    ue_pos = random_ue_positions(num_ue, cov_side)\n",
    "    ap_pos = ap_positions(num_ap, cov_side)\n",
    "    distances = distance(ue_pos, ap_pos)\n",
    "\n",
    "\n",
    "    shadowing = 2*np.random.randn(num_ue, num_ap)\n",
    "    \n",
    "    snr = snr_cellfree(distances, shadowing) \n",
    "    \n",
    "    channels = channel_gain(snr)\n",
    "\n",
    "    #power_sra = stepwise_removal(channels)[0]\n",
    "    power_mp = np.ones(num_ue)\n",
    "    \n",
    "    total_sinr_mp[:, seed] = lin2db(mmse_sinr(channels, power_mp, noise_p))"
   ]
  },
  {
   "cell_type": "code",
   "execution_count": 8,
   "id": "32bf3294-3d75-45b1-967a-06efafe95785",
   "metadata": {},
   "outputs": [
    {
     "name": "stdout",
     "output_type": "stream",
     "text": [
      "(8000,)\n"
     ]
    },
    {
     "data": {
      "image/png": "[encoded data removed]",
      "text/plain": [
       "<Figure size 640x480 with 1 Axes>"
      ]
     },
     "metadata": {},
     "output_type": "display_data"
    }
   ],
   "source": [
    "sinr_cdf = eCDF(total_sinr_mp.flatten())\n",
    "print(sinr_cdf[0].shape)\n",
    "plt.plot(sinr_cdf[0], sinr_cdf[1])\n",
    "#teste\n",
    "plt.grid()"
   ]
  }
 ],
 "metadata": {
  "kernelspec": {
   "display_name": "Python 3 (ipykernel)",
   "language": "python",
   "name": "python3"
  },
  "language_info": {
   "codemirror_mode": {
    "name": "ipython",
    "version": 3
   },
   "file_extension": ".py",
   "mimetype": "text/x-python",
   "name": "python",
   "nbconvert_exporter": "python",
   "pygments_lexer": "ipython3",
   "version": "3.12.2"
  }
 },
 "nbformat": 4,
 "nbformat_minor": 5
}
