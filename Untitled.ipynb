{
 "cells": [
  {
   "cell_type": "code",
   "execution_count": null,
   "id": "f8ac9eee-6058-43fc-81d2-1e6a61dc0547",
   "metadata": {},
   "outputs": [],
   "source": [
    "''' Chapter 3 - Basic Probability '''"
   ]
  },
  {
   "cell_type": "code",
   "execution_count": null,
   "id": "904b2b75-bdb0-4f10-b0f8-1d77fdbbbeda",
   "metadata": {},
   "outputs": [],
   "source": [
    "''' Example 1: The probability of two students have the same birthday ''' "
   ]
  },
  {
   "cell_type": "code",
   "execution_count": null,
   "id": "83215838-bfa0-4e79-9f81-1bc8e0319eb6",
   "metadata": {},
   "outputs": [],
   "source": [
    "import numpy as np\n",
    "from matplotlib import pyplot as plt\n",
    "\n",
    "np.random.seed(14)"
   ]
  },
  {
   "cell_type": "code",
   "execution_count": null,
   "id": "fffa3f4d-b4f7-4cc5-8616-832d3188d8ac",
   "metadata": {},
   "outputs": [],
   "source": []
  }
 ],
 "metadata": {
  "kernelspec": {
   "display_name": "Python 3 (ipykernel)",
   "language": "python",
   "name": "python3"
  },
  "language_info": {
   "codemirror_mode": {
    "name": "ipython",
    "version": 3
   },
   "file_extension": ".py",
   "mimetype": "text/x-python",
   "name": "python",
   "nbconvert_exporter": "python",
   "pygments_lexer": "ipython3",
   "version": "3.12.2"
  }
 },
 "nbformat": 4,
 "nbformat_minor": 5
}
